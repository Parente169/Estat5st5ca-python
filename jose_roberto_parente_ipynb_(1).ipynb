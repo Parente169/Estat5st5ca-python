{
  "nbformat": 4,
  "nbformat_minor": 0,
  "metadata": {
    "colab": {
      "provenance": [],
      "include_colab_link": true
    },
    "kernelspec": {
      "name": "python3",
      "display_name": "Python 3"
    },
    "language_info": {
      "name": "python"
    }
  },
  "cells": [
    {
      "cell_type": "markdown",
      "metadata": {
        "id": "view-in-github",
        "colab_type": "text"
      },
      "source": [
        "<a href=\"https://colab.research.google.com/github/Parente169/Estat5st5ca-python/blob/main/jose_roberto_parente_ipynb_(1).ipynb\" target=\"_parent\"><img src=\"https://colab.research.google.com/assets/colab-badge.svg\" alt=\"Open In Colab\"/></a>"
      ]
    },
    {
      "cell_type": "markdown",
      "source": [
        "**nome: Jose Roberto Parente dos Santos Silva\n",
        "matricula: 2013200831\n",
        "disciplina:\n",
        "P236 - ESTATÍSTICA APLICADA A NEGÓCIOS 2023/0**"
      ],
      "metadata": {
        "id": "bJjZ8WLHVwov"
      }
    },
    {
      "cell_type": "code",
      "execution_count": null,
      "metadata": {
        "id": "9qp9FCFDLCAt"
      },
      "outputs": [],
      "source": [
        "import pandas as pd\n"
      ]
    },
    {
      "cell_type": "code",
      "source": [
        "import matplotlib"
      ],
      "metadata": {
        "id": "yTHEPNX9L8Zr"
      },
      "execution_count": null,
      "outputs": []
    },
    {
      "cell_type": "code",
      "source": [
        "import matplotlib.pyplot as plt"
      ],
      "metadata": {
        "id": "lavvXwj-MFKL"
      },
      "execution_count": null,
      "outputs": []
    },
    {
      "cell_type": "code",
      "source": [
        "plt.show()"
      ],
      "metadata": {
        "id": "3kFDg4IvMJqr"
      },
      "execution_count": null,
      "outputs": []
    },
    {
      "cell_type": "code",
      "source": [
        "df = pd.read_excel(\"/content/POP_Mun_2022 (1).xlsx\")"
      ],
      "metadata": {
        "id": "FBBisRfSLOOa"
      },
      "execution_count": null,
      "outputs": []
    },
    {
      "cell_type": "code",
      "source": [
        "print(df)"
      ],
      "metadata": {
        "colab": {
          "base_uri": "https://localhost:8080/"
        },
        "id": "cJ6vzuHSLlaQ",
        "outputId": "c72ad310-d3bb-4626-caea-de1ab75210f9"
      },
      "execution_count": null,
      "outputs": [
        {
          "output_type": "stream",
          "name": "stdout",
          "text": [
            "      UF  COD_UF  COD_MUN              MUNICÍPIO      POP\n",
            "0     RO      11       15  Alta Floresta D'Oeste    21558\n",
            "1     RO      11       23              Ariquemes   100896\n",
            "2     RO      11       31                 Cabixi     5107\n",
            "3     RO      11       49                 Cacoal    92202\n",
            "4     RO      11       56             Cerejeiras    15237\n",
            "...   ..     ...      ...                    ...      ...\n",
            "5565  GO      52    22005             Vianópolis    14046\n",
            "5566  GO      52    22054         Vicentinópolis     8776\n",
            "5567  GO      52    22203               Vila Boa     3686\n",
            "5568  GO      52    22302          Vila Propício     5646\n",
            "5569  DF      53      108               Brasília  2923369\n",
            "\n",
            "[5570 rows x 5 columns]\n"
          ]
        }
      ]
    },
    {
      "cell_type": "markdown",
      "source": [
        "**Total da População**\n"
      ],
      "metadata": {
        "id": "ROX-ZjPTMe5V"
      }
    },
    {
      "cell_type": "code",
      "source": [
        "total_populacao = df['POP'].sum()\n",
        "print(f'Total da População: {total_populacao}')"
      ],
      "metadata": {
        "colab": {
          "base_uri": "https://localhost:8080/"
        },
        "id": "s9vBh7M4MVKS",
        "outputId": "3b35c0a1-3a4f-4fa1-e3c7-0dcdef6abed2"
      },
      "execution_count": null,
      "outputs": [
        {
          "output_type": "stream",
          "name": "stdout",
          "text": [
            "Total da População: 207750291\n"
          ]
        }
      ]
    },
    {
      "cell_type": "markdown",
      "source": [
        "**Média – habitantes por município**\n",
        "\n"
      ],
      "metadata": {
        "id": "J3NqoIZhM1da"
      }
    },
    {
      "cell_type": "code",
      "source": [
        "media_populacao = df['POP'].mean()\n",
        "print(f'Média de habitantes por município: {media_populacao}')"
      ],
      "metadata": {
        "colab": {
          "base_uri": "https://localhost:8080/"
        },
        "id": "3g9P7oMAMxka",
        "outputId": "cfbffdab-5299-4322-f398-7ebd832fc598"
      },
      "execution_count": null,
      "outputs": [
        {
          "output_type": "stream",
          "name": "stdout",
          "text": [
            "Média de habitantes por município: 37298.077378815084\n"
          ]
        }
      ]
    },
    {
      "cell_type": "markdown",
      "source": [
        "**Mediana**\n"
      ],
      "metadata": {
        "id": "z2AKcku6NF6L"
      }
    },
    {
      "cell_type": "code",
      "source": [
        "mediana_populacao = df['POP'].median()\n",
        "print(f'Mediana da população: {mediana_populacao}')"
      ],
      "metadata": {
        "colab": {
          "base_uri": "https://localhost:8080/"
        },
        "id": "e0GX2EttNJau",
        "outputId": "e97f6457-3c65-4648-d7ec-3252da01d328"
      },
      "execution_count": null,
      "outputs": [
        {
          "output_type": "stream",
          "name": "stdout",
          "text": [
            "Mediana da população: 11095.5\n"
          ]
        }
      ]
    },
    {
      "cell_type": "markdown",
      "source": [
        "**Mínimo - nome município e habitantes**\n"
      ],
      "metadata": {
        "id": "pq3aN7QYNN3O"
      }
    },
    {
      "cell_type": "code",
      "source": [
        "min_populacao = df.loc[df['POP'].idxmin()]\n",
        "print(f'Mínimo - Nome município: {min_populacao[\"MUNICÍPIO\"]}, Habitantes: {min_populacao[\"POP\"]}')\n"
      ],
      "metadata": {
        "colab": {
          "base_uri": "https://localhost:8080/"
        },
        "id": "Ea3AQyRuNMkC",
        "outputId": "0d8bfcbd-f6d8-4f06-b005-49442c1ecc00"
      },
      "execution_count": null,
      "outputs": [
        {
          "output_type": "stream",
          "name": "stdout",
          "text": [
            "Mínimo - Nome município: Serra da Saudade, Habitantes: 836\n"
          ]
        }
      ]
    },
    {
      "cell_type": "markdown",
      "source": [
        "**Máximo - nome município e habitantes**\n"
      ],
      "metadata": {
        "id": "WPEtvs_oNeig"
      }
    },
    {
      "cell_type": "code",
      "source": [
        "max_populacao = df.loc[df['POP'].idxmax()]\n",
        "print(f'Máximo - Nome município: {max_populacao[\"MUNICÍPIO\"]}, Habitantes: {max_populacao[\"POP\"]}')\n"
      ],
      "metadata": {
        "colab": {
          "base_uri": "https://localhost:8080/"
        },
        "id": "EST0EwfjNVJx",
        "outputId": "4217403c-a793-460a-86f3-abc2f8f56e56"
      },
      "execution_count": null,
      "outputs": [
        {
          "output_type": "stream",
          "name": "stdout",
          "text": [
            "Máximo - Nome município: São Paulo, Habitantes: 12200180\n"
          ]
        }
      ]
    },
    {
      "cell_type": "markdown",
      "source": [
        "**Quartis**"
      ],
      "metadata": {
        "id": "5XYzldvQOQGi"
      }
    },
    {
      "cell_type": "code",
      "source": [
        "quartis_populacao = df['POP'].quantile([0.25, 0.5, 0.75])\n",
        "print(f'Quartis: \\n{quartis_populacao}')"
      ],
      "metadata": {
        "colab": {
          "base_uri": "https://localhost:8080/"
        },
        "id": "A5-ni_6vNkaI",
        "outputId": "94c57cdb-bd88-4c8e-cd56-d51da6ec4244"
      },
      "execution_count": null,
      "outputs": [
        {
          "output_type": "stream",
          "name": "stdout",
          "text": [
            "Quartis: \n",
            "0.25     5281.75\n",
            "0.50    11095.50\n",
            "0.75    24615.00\n",
            "Name: POP, dtype: float64\n"
          ]
        }
      ]
    },
    {
      "cell_type": "markdown",
      "source": [
        "**Variancia**"
      ],
      "metadata": {
        "id": "yi0_MLeFOXDf"
      }
    },
    {
      "cell_type": "code",
      "source": [
        "variancia_populacao = df['POP'].var()\n",
        "print(f'Variância: {variancia_populacao}')"
      ],
      "metadata": {
        "colab": {
          "base_uri": "https://localhost:8080/"
        },
        "id": "YVAyf23QOUon",
        "outputId": "1415fb83-f8ca-4189-a72b-9c7fe79cab9c"
      },
      "execution_count": null,
      "outputs": [
        {
          "output_type": "stream",
          "name": "stdout",
          "text": [
            "Variância: 47685025320.12026\n"
          ]
        }
      ]
    },
    {
      "cell_type": "markdown",
      "source": [
        "**desvio padrao**   "
      ],
      "metadata": {
        "id": "JFlvzO8LOegi"
      }
    },
    {
      "cell_type": "code",
      "source": [
        "desvio_padrao_populacao = df['POP'].std()\n",
        "print(f'Desvio Padrão: {desvio_padrao_populacao:.2f}')"
      ],
      "metadata": {
        "colab": {
          "base_uri": "https://localhost:8080/"
        },
        "id": "bFW0NoGYOclM",
        "outputId": "c43c7925-75ce-46ff-ec43-289d165abe64"
      },
      "execution_count": null,
      "outputs": [
        {
          "output_type": "stream",
          "name": "stdout",
          "text": [
            "Desvio Padrão: 218369.01\n"
          ]
        }
      ]
    },
    {
      "cell_type": "markdown",
      "source": [
        "**coeficiente de variação**"
      ],
      "metadata": {
        "id": "piAp785tOmW6"
      }
    },
    {
      "cell_type": "code",
      "source": [
        "coef_variacao_populacao = (desvio_padrao_populacao / media_populacao) * 100\n",
        "print(f'Coeficiente de Variação: {coef_variacao_populacao:.2f}%')"
      ],
      "metadata": {
        "colab": {
          "base_uri": "https://localhost:8080/"
        },
        "id": "hOYnciTWOkTU",
        "outputId": "e61dc764-9d5b-4a51-cbf8-26fa39aaabf4"
      },
      "execution_count": null,
      "outputs": [
        {
          "output_type": "stream",
          "name": "stdout",
          "text": [
            "Coeficiente de Variação: 585.47%\n"
          ]
        }
      ]
    },
    {
      "cell_type": "code",
      "source": [],
      "metadata": {
        "id": "-JI-eaDLOtu-"
      },
      "execution_count": null,
      "outputs": []
    },
    {
      "cell_type": "markdown",
      "source": [
        "**2-Selecionar um conjunto de 6 amostras aleatórias simples sem reposição com as\n",
        "seguintes características:**"
      ],
      "metadata": {
        "id": "BRwzdPPVPEQp"
      }
    },
    {
      "cell_type": "code",
      "source": [
        "amostra_01 = df.sample(n=100, replace=False)\n"
      ],
      "metadata": {
        "id": "djZ3Mi5uPJi7"
      },
      "execution_count": null,
      "outputs": []
    },
    {
      "cell_type": "code",
      "source": [
        "amostra_02 = df.sample(n=1000, replace=False)\n"
      ],
      "metadata": {
        "id": "PI2DtdUoPTYK"
      },
      "execution_count": null,
      "outputs": []
    },
    {
      "cell_type": "code",
      "source": [
        "amostra_03 = df.sample(n=4000, replace=False)\n"
      ],
      "metadata": {
        "id": "2k4NrnXPPWgI"
      },
      "execution_count": null,
      "outputs": []
    },
    {
      "cell_type": "code",
      "source": [
        "amostra_04 = df.sample(frac=0.1, replace=False)\n"
      ],
      "metadata": {
        "id": "MjviAB10PZfX"
      },
      "execution_count": null,
      "outputs": []
    },
    {
      "cell_type": "code",
      "source": [
        "amostra_05 = df.sample(frac=0.2, replace=False)\n"
      ],
      "metadata": {
        "id": "uurq3tP5PbyP"
      },
      "execution_count": null,
      "outputs": []
    },
    {
      "cell_type": "code",
      "source": [
        "amostra_06 = df.sample(frac=1, replace=False)\n"
      ],
      "metadata": {
        "id": "ZUtkBMyhPd2v"
      },
      "execution_count": null,
      "outputs": []
    },
    {
      "cell_type": "code",
      "source": [
        "print(\"Tamanho das amostras:\")\n",
        "print(\"Amostra 01:\", len(amostra_01))\n",
        "print(\"Amostra 02:\", len(amostra_02))\n",
        "print(\"Amostra 03:\", len(amostra_03))\n",
        "print(\"Amostra 04:\", len(amostra_04))\n",
        "print(\"Amostra 05:\", len(amostra_05))\n",
        "print(\"Amostra 06:\", len(amostra_06))"
      ],
      "metadata": {
        "colab": {
          "base_uri": "https://localhost:8080/"
        },
        "id": "Kf38HTmgPfoh",
        "outputId": "f58e8ea1-6cbd-45a3-d439-866849ecb116"
      },
      "execution_count": null,
      "outputs": [
        {
          "output_type": "stream",
          "name": "stdout",
          "text": [
            "Tamanho das amostras:\n",
            "Amostra 01: 100\n",
            "Amostra 02: 1000\n",
            "Amostra 03: 4000\n",
            "Amostra 04: 557\n",
            "Amostra 05: 1114\n",
            "Amostra 06: 5570\n"
          ]
        }
      ]
    },
    {
      "cell_type": "markdown",
      "source": [
        "**03- PARA CADA AMOSTRA\n",
        "Calcular os seguintes estimadores**"
      ],
      "metadata": {
        "id": "rKTKckwiPmE1"
      }
    },
    {
      "cell_type": "code",
      "source": [
        "# Total da População\n",
        "total_populacao = df['POP'].sum()\n"
      ],
      "metadata": {
        "id": "-fqMjIfWPjj4"
      },
      "execution_count": null,
      "outputs": []
    },
    {
      "cell_type": "code",
      "source": [
        "# Média – habitantes por município\n",
        "media_populacao = df['POP'].mean()\n"
      ],
      "metadata": {
        "id": "rq8IWz6_QNv7"
      },
      "execution_count": null,
      "outputs": []
    },
    {
      "cell_type": "code",
      "source": [
        "# Mediana\n",
        "mediana_populacao = df['POP'].median()\n"
      ],
      "metadata": {
        "id": "6vXvKc38QQOB"
      },
      "execution_count": null,
      "outputs": []
    },
    {
      "cell_type": "code",
      "source": [
        "# Mínimo - nome município e habitantes\n",
        "min_populacao = df.loc[df['POP'].idxmin()]\n"
      ],
      "metadata": {
        "id": "hE0exJcjQSaY"
      },
      "execution_count": null,
      "outputs": []
    },
    {
      "cell_type": "code",
      "source": [
        "# Máximo - nome município e habitantes\n",
        "max_populacao = df.loc[df['POP'].idxmax()]\n"
      ],
      "metadata": {
        "id": "x6BDjsznQVEY"
      },
      "execution_count": null,
      "outputs": []
    },
    {
      "cell_type": "code",
      "source": [
        "# Variância\n",
        "variancia_populacao = df['POP'].var()\n"
      ],
      "metadata": {
        "id": "DscHiV8JQYKY"
      },
      "execution_count": null,
      "outputs": []
    },
    {
      "cell_type": "code",
      "source": [
        "# Desvio padrão\n",
        "desvio_padrao_populacao = df['POP'].std()\n"
      ],
      "metadata": {
        "id": "CQPriMJUQaLg"
      },
      "execution_count": null,
      "outputs": []
    },
    {
      "cell_type": "code",
      "source": [
        "# Coeficiente de Variação\n",
        "coef_variacao_populacao = (desvio_padrao_populacao / media_populacao) * 100\n"
      ],
      "metadata": {
        "id": "0xmzLqcbQceP"
      },
      "execution_count": null,
      "outputs": []
    },
    {
      "cell_type": "code",
      "source": [
        "# Erro percentual de estimação para o Total da População\n",
        "erro_total_populacao = abs(total_populacao - len(df)) / total_populacao * 100\n"
      ],
      "metadata": {
        "id": "uBNBwtDfQeuI"
      },
      "execution_count": null,
      "outputs": []
    },
    {
      "cell_type": "code",
      "source": [
        "# Erro percentual de estimação para a Média de Habitantes por Município\n",
        "erro_media_populacao = abs(media_populacao - df['POP'].mean()) / media_populacao * 100\n"
      ],
      "metadata": {
        "id": "exgjO0kAQhZ-"
      },
      "execution_count": null,
      "outputs": []
    },
    {
      "cell_type": "code",
      "source": [
        "print(f'Total da População: {total_populacao}')\n",
        "print(f'Média de habitantes por município: {media_populacao:.2f}')\n",
        "print(f'Mediana da população: {mediana_populacao}')\n",
        "print(f'Mínimo - Nome município: {min_populacao[\"MUNICÍPIO\"]}, Habitantes: {min_populacao[\"POP\"]}')\n",
        "print(f'Máximo - Nome município: {max_populacao[\"MUNICÍPIO\"]}, Habitantes: {max_populacao[\"POP\"]}')\n",
        "print(f'Variância: {variancia_populacao}')\n",
        "print(f'Desvio Padrão: {desvio_padrao_populacao:.2f}')\n",
        "print(f'Coeficiente de Variação: {coef_variacao_populacao:.2f}%')\n",
        "print(f'Erro (%) de estimação para o Total da População: {erro_total_populacao:.2f}%')\n",
        "print(f'Erro (%) de estimação para a Média de Habitantes por Município: {erro_media_populacao:.2f}%')"
      ],
      "metadata": {
        "colab": {
          "base_uri": "https://localhost:8080/"
        },
        "id": "ujTkhhbOQjg3",
        "outputId": "18b902c8-4c18-4d23-8c46-d155925cef39"
      },
      "execution_count": null,
      "outputs": [
        {
          "output_type": "stream",
          "name": "stdout",
          "text": [
            "Total da População: 207750291\n",
            "Média de habitantes por município: 37298.08\n",
            "Mediana da população: 11095.5\n",
            "Mínimo - Nome município: Serra da Saudade, Habitantes: 836\n",
            "Máximo - Nome município: São Paulo, Habitantes: 12200180\n",
            "Variância: 47685025320.12026\n",
            "Desvio Padrão: 218369.01\n",
            "Coeficiente de Variação: 585.47%\n",
            "Erro (%) de estimação para o Total da População: 100.00%\n",
            "Erro (%) de estimação para a Média de Habitantes por Município: 0.00%\n"
          ]
        }
      ]
    },
    {
      "cell_type": "markdown",
      "source": [
        "**a) Os erros de previsão para o Total da População são muito diferentes entre as 6\n",
        "amostras?**"
      ],
      "metadata": {
        "id": "8gRFXp_XQrcs"
      }
    },
    {
      "cell_type": "code",
      "source": [
        "# Total da População\n",
        "total_populacao_real = df['POP'].sum()\n"
      ],
      "metadata": {
        "id": "6t6AAVv2R7mV"
      },
      "execution_count": null,
      "outputs": []
    },
    {
      "cell_type": "code",
      "source": [
        "# Média – habitantes por município\n",
        "media_populacao_real = df['POP'].mean()\n"
      ],
      "metadata": {
        "id": "L0qopON9SY1e"
      },
      "execution_count": null,
      "outputs": []
    },
    {
      "cell_type": "code",
      "source": [
        "# Lista para armazenar os resultados\n",
        "resultados = []\n"
      ],
      "metadata": {
        "id": "7OD79Y7fSbTx"
      },
      "execution_count": null,
      "outputs": []
    },
    {
      "cell_type": "code",
      "source": [
        "for i in range(1, 7):\n",
        "    # Gerar amostra\n",
        "    if i == 1:\n",
        "        amostra = df.sample(n=100, replace=False)\n",
        "    elif i == 2:\n",
        "        amostra = df.sample(n=1000, replace=False)\n",
        "    elif i == 3:\n",
        "        amostra = df.sample(n=4000, replace=False)\n",
        "    elif i == 4:\n",
        "        amostra = df.sample(frac=0.1, replace=False)\n",
        "    elif i == 5:\n",
        "        amostra = df.sample(frac=0.2, replace=False)\n",
        "    elif i == 6:\n",
        "        amostra = df.sample(frac=1, replace=False)\n"
      ],
      "metadata": {
        "id": "1G6TcjcuSeSR"
      },
      "execution_count": null,
      "outputs": []
    },
    {
      "cell_type": "code",
      "source": [
        "\n",
        "    # Calcular erro percentual de estimação para o Total da População\n",
        "    erro_total_populacao = abs(amostra['POP'].sum() - total_populacao_real) / total_populacao_real * 100\n"
      ],
      "metadata": {
        "id": "fz2X5YhGSjkh"
      },
      "execution_count": null,
      "outputs": []
    },
    {
      "cell_type": "code",
      "source": [
        "\n",
        "    # Calcular erro percentual de estimação para a Média de Habitantes por Município\n",
        "    erro_media_populacao = abs(amostra['POP'].mean() - media_populacao_real) / media_populacao_real * 100\n",
        "\n"
      ],
      "metadata": {
        "id": "f2ML9-FxSnC5"
      },
      "execution_count": null,
      "outputs": []
    },
    {
      "cell_type": "code",
      "source": [
        "\n",
        "    # Armazenar resultados\n",
        "    resultados.append({\n",
        "        'Amostra': i,\n",
        "        'Erro Total da População (%)': erro_total_populacao,\n",
        "        'Erro Média de Habitantes por Município (%)': erro_media_populacao\n",
        "    })\n"
      ],
      "metadata": {
        "id": "SWgOIkk8S5o_"
      },
      "execution_count": null,
      "outputs": []
    },
    {
      "cell_type": "code",
      "source": [
        "# Criar DataFrame com os resultados\n",
        "df_resultados = pd.DataFrame(resultados)"
      ],
      "metadata": {
        "id": "qbJ1IDp2S_PA"
      },
      "execution_count": null,
      "outputs": []
    },
    {
      "cell_type": "code",
      "source": [
        "# Exibir os resultados\n",
        "print(df_resultados)"
      ],
      "metadata": {
        "colab": {
          "base_uri": "https://localhost:8080/"
        },
        "id": "Of-91gamTW5N",
        "outputId": "23355727-556c-4de3-efff-363ccb26fb62"
      },
      "execution_count": null,
      "outputs": [
        {
          "output_type": "stream",
          "name": "stdout",
          "text": [
            "   Amostra  Erro Total da População (%)  \\\n",
            "0        6                          0.0   \n",
            "\n",
            "   Erro Média de Habitantes por Município (%)  \n",
            "0                                         0.0  \n"
          ]
        }
      ]
    },
    {
      "cell_type": "markdown",
      "source": [
        "**a) Os erros de previsão para o Total da População são muito diferentes entre as 6\n",
        "amostras?**"
      ],
      "metadata": {
        "id": "Hm62dZ5OTcIj"
      }
    },
    {
      "cell_type": "code",
      "source": [
        "erro_total_diferente = df_resultados['Erro Total da População (%)'].std() > 1\n",
        "print(f'\\na) Os erros de previsão para o Total da População são muito diferentes entre as 6 amostras? {erro_total_diferente}')\n"
      ],
      "metadata": {
        "colab": {
          "base_uri": "https://localhost:8080/"
        },
        "id": "iiqSJ2eaTaC8",
        "outputId": "488cae05-2981-4470-a710-2a0376fc66cb"
      },
      "execution_count": null,
      "outputs": [
        {
          "output_type": "stream",
          "name": "stdout",
          "text": [
            "\n",
            "a) Os erros de previsão para o Total da População são muito diferentes entre as 6 amostras? False\n"
          ]
        }
      ]
    },
    {
      "cell_type": "markdown",
      "source": [
        "**Os erros de previsão para o Total da População e Média (habitantes/município)\n",
        "calculados no item anterior são iguais?**"
      ],
      "metadata": {
        "id": "eitoe5I5TqIp"
      }
    },
    {
      "cell_type": "code",
      "source": [
        "erro_media_igual = df_resultados['Erro Total da População (%)'].equals(df_resultados['Erro Média de Habitantes por Município (%)'])\n",
        "print(f'b) Os erros de previsão para o Total da População e Média (habitantes/município) calculados no item anterior são iguais? {erro_media_igual}')"
      ],
      "metadata": {
        "colab": {
          "base_uri": "https://localhost:8080/"
        },
        "id": "88m51OSVTkPc",
        "outputId": "b5a8ea45-c09b-411c-bc76-56823bee1ff3"
      },
      "execution_count": null,
      "outputs": [
        {
          "output_type": "stream",
          "name": "stdout",
          "text": [
            "b) Os erros de previsão para o Total da População e Média (habitantes/município) calculados no item anterior são iguais? True\n"
          ]
        }
      ]
    },
    {
      "cell_type": "code",
      "source": [],
      "metadata": {
        "id": "jfIEpUVlTu9K"
      },
      "execution_count": null,
      "outputs": []
    },
    {
      "cell_type": "markdown",
      "source": [
        "**04- PARA CADA AMOSTRA\n",
        "Determine o Intervalo de Confiança de 95% para a Média (habitantes/município)**"
      ],
      "metadata": {
        "id": "OEicp9G6T90q"
      }
    },
    {
      "cell_type": "code",
      "source": [
        "import pandas as pd\n",
        "from scipy import stats"
      ],
      "metadata": {
        "id": "7VmcAcD1UQS8"
      },
      "execution_count": null,
      "outputs": []
    },
    {
      "cell_type": "code",
      "source": [
        "total_amostras = 5569\n"
      ],
      "metadata": {
        "id": "RTbD8z2-UTvQ"
      },
      "execution_count": null,
      "outputs": []
    },
    {
      "cell_type": "code",
      "source": [
        "# Proporção desejada para a amostra (100%)\n",
        "proporcao_amostra = 1.0"
      ],
      "metadata": {
        "id": "msCElp5iVWf-"
      },
      "execution_count": null,
      "outputs": []
    },
    {
      "cell_type": "code",
      "source": [
        "tamanho_amostra = int(total_amostras * proporcao_amostra)\n",
        "amostra = df.sample(n=tamanho_amostra, replace=False)"
      ],
      "metadata": {
        "id": "hygJn6faVccl"
      },
      "execution_count": null,
      "outputs": []
    },
    {
      "cell_type": "code",
      "source": [
        "conf_int = stats.t.interval(0.95, len(amostra)-1, loc=amostra['POP'].mean(), scale=stats.sem(amostra['POP']))\n"
      ],
      "metadata": {
        "id": "waF84X86VfNl"
      },
      "execution_count": null,
      "outputs": []
    },
    {
      "cell_type": "code",
      "source": [
        "print(f'Intervalo de Confiança (95%) para a Média de Habitantes por Município: {conf_int}')\n"
      ],
      "metadata": {
        "colab": {
          "base_uri": "https://localhost:8080/"
        },
        "id": "Q0oBEaVRVh_8",
        "outputId": "877859bc-bcee-4d37-dcf4-9090f0ccf47d"
      },
      "execution_count": null,
      "outputs": [
        {
          "output_type": "stream",
          "name": "stdout",
          "text": [
            "Intervalo de Confiança (95%) para a Média de Habitantes por Município: (31567.381617800187, 43041.33017964999)\n"
          ]
        }
      ]
    },
    {
      "cell_type": "code",
      "source": [],
      "metadata": {
        "id": "2g7KYZA0Vj7W"
      },
      "execution_count": null,
      "outputs": []
    }
  ]
}