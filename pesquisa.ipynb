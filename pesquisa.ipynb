{
  "nbformat": 4,
  "nbformat_minor": 0,
  "metadata": {
    "colab": {
      "provenance": [],
      "authorship_tag": "ABX9TyPX8t+J8OcOuf2WWNO0IqM9",
      "include_colab_link": true
    },
    "kernelspec": {
      "name": "ir",
      "display_name": "R"
    },
    "language_info": {
      "name": "R"
    }
  },
  "cells": [
    {
      "cell_type": "markdown",
      "metadata": {
        "id": "view-in-github",
        "colab_type": "text"
      },
      "source": [
        "<a href=\"https://colab.research.google.com/github/Parente169/Estat5st5ca-python/blob/main/pesquisa.ipynb\" target=\"_parent\"><img src=\"https://colab.research.google.com/assets/colab-badge.svg\" alt=\"Open In Colab\"/></a>"
      ]
    },
    {
      "cell_type": "code",
      "execution_count": 1,
      "metadata": {
        "colab": {
          "base_uri": "https://localhost:8080/"
        },
        "id": "pcjDuSd2fbvl",
        "outputId": "023f3b64-e7f4-42d4-d52f-30a9ac11a106"
      },
      "outputs": [
        {
          "output_type": "stream",
          "name": "stderr",
          "text": [
            "\n",
            "Attaching package: ‘dplyr’\n",
            "\n",
            "\n",
            "The following objects are masked from ‘package:stats’:\n",
            "\n",
            "    filter, lag\n",
            "\n",
            "\n",
            "The following objects are masked from ‘package:base’:\n",
            "\n",
            "    intersect, setdiff, setequal, union\n",
            "\n",
            "\n"
          ]
        }
      ],
      "source": [
        "library(readxl)\n",
        "library(dplyr)\n",
        "library(ggplot2)\n",
        "\n"
      ]
    },
    {
      "cell_type": "code",
      "source": [
        "data <- read_excel(\"pesquisa.xlsx\")\n"
      ],
      "metadata": {
        "id": "fRjtZpiWgHXI"
      },
      "execution_count": null,
      "outputs": []
    },
    {
      "cell_type": "code",
      "source": [
        "head(data)\n"
      ],
      "metadata": {
        "colab": {
          "base_uri": "https://localhost:8080/",
          "height": 286
        },
        "id": "85DlYfdmgSLG",
        "outputId": "6ebf3a42-bf6b-455d-b918-331c1da61909"
      },
      "execution_count": null,
      "outputs": [
        {
          "output_type": "display_data",
          "data": {
            "text/html": [
              "<table class=\"dataframe\">\n",
              "<caption>A tibble: 6 × 6</caption>\n",
              "<thead>\n",
              "\t<tr><th scope=col>TURMA</th><th scope=col>DISCIPLINA</th><th scope=col>PERÍODO</th><th scope=col>SEXO</th><th scope=col>PESQ1</th><th scope=col>PESQ2</th></tr>\n",
              "\t<tr><th scope=col>&lt;chr&gt;</th><th scope=col>&lt;chr&gt;</th><th scope=col>&lt;chr&gt;</th><th scope=col>&lt;dbl&gt;</th><th scope=col>&lt;chr&gt;</th><th scope=col>&lt;chr&gt;</th></tr>\n",
              "</thead>\n",
              "<tbody>\n",
              "\t<tr><td>T126</td><td>ALG-I</td><td>1P</td><td>1</td><td>0</td><td>NA</td></tr>\n",
              "\t<tr><td>T126</td><td>ALG-I</td><td>1P</td><td>1</td><td>0</td><td>NA</td></tr>\n",
              "\t<tr><td>T126</td><td>ALG-I</td><td>1P</td><td>1</td><td>P</td><td>P </td></tr>\n",
              "\t<tr><td>T126</td><td>ALG-I</td><td>1P</td><td>1</td><td>0</td><td>NA</td></tr>\n",
              "\t<tr><td>T126</td><td>ALG-I</td><td>1P</td><td>1</td><td>H</td><td>H </td></tr>\n",
              "\t<tr><td>T126</td><td>ALG-I</td><td>1P</td><td>1</td><td>0</td><td>NA</td></tr>\n",
              "</tbody>\n",
              "</table>\n"
            ],
            "text/markdown": "\nA tibble: 6 × 6\n\n| TURMA &lt;chr&gt; | DISCIPLINA &lt;chr&gt; | PERÍODO &lt;chr&gt; | SEXO &lt;dbl&gt; | PESQ1 &lt;chr&gt; | PESQ2 &lt;chr&gt; |\n|---|---|---|---|---|---|\n| T126 | ALG-I | 1P | 1 | 0 | NA |\n| T126 | ALG-I | 1P | 1 | 0 | NA |\n| T126 | ALG-I | 1P | 1 | P | P  |\n| T126 | ALG-I | 1P | 1 | 0 | NA |\n| T126 | ALG-I | 1P | 1 | H | H  |\n| T126 | ALG-I | 1P | 1 | 0 | NA |\n\n",
            "text/latex": "A tibble: 6 × 6\n\\begin{tabular}{llllll}\n TURMA & DISCIPLINA & PERÍODO & SEXO & PESQ1 & PESQ2\\\\\n <chr> & <chr> & <chr> & <dbl> & <chr> & <chr>\\\\\n\\hline\n\t T126 & ALG-I & 1P & 1 & 0 & NA\\\\\n\t T126 & ALG-I & 1P & 1 & 0 & NA\\\\\n\t T126 & ALG-I & 1P & 1 & P & P \\\\\n\t T126 & ALG-I & 1P & 1 & 0 & NA\\\\\n\t T126 & ALG-I & 1P & 1 & H & H \\\\\n\t T126 & ALG-I & 1P & 1 & 0 & NA\\\\\n\\end{tabular}\n",
            "text/plain": [
              "  TURMA DISCIPLINA PERÍODO SEXO PESQ1 PESQ2\n",
              "1 T126  ALG-I      1P      1    0     NA   \n",
              "2 T126  ALG-I      1P      1    0     NA   \n",
              "3 T126  ALG-I      1P      1    P     P    \n",
              "4 T126  ALG-I      1P      1    0     NA   \n",
              "5 T126  ALG-I      1P      1    H     H    \n",
              "6 T126  ALG-I      1P      1    0     NA   "
            ]
          },
          "metadata": {}
        }
      ]
    },
    {
      "cell_type": "code",
      "source": [
        "data <- data %>%\n",
        "  mutate(\n",
        "    DIA_SEMANA = substr(TURMA, 3, 3),\n",
        "    TURNO = substr(TURMA, 4, 4)\n",
        "  )"
      ],
      "metadata": {
        "id": "Kb-b5b9bgYGe"
      },
      "execution_count": null,
      "outputs": []
    },
    {
      "cell_type": "code",
      "source": [
        "data <- data %>%\n",
        "  mutate(\n",
        "    DIA_SEMANA = case_when(\n",
        "      DIA_SEMANA == \"2\" ~ \"2ª feira\",\n",
        "      DIA_SEMANA == \"3\" ~ \"3ª feira\",\n",
        "      DIA_SEMANA == \"4\" ~ \"4ª feira\",\n",
        "      DIA_SEMANA == \"5\" ~ \"5ª feira\",\n",
        "      DIA_SEMANA == \"6\" ~ \"6ª feira\",\n",
        "      TRUE ~ DIA_SEMANA\n",
        "    ),\n",
        "    TURNO = case_when(\n",
        "      TURNO == \"1\" ~ \"1º tempo noite\",\n",
        "      TURNO == \"2\" ~ \"2º tempo noite\",\n",
        "      TURNO == \"3\" ~ \"3º tempo noite\",\n",
        "      TRUE ~ TURNO\n",
        "    )\n",
        "  )\n"
      ],
      "metadata": {
        "id": "dqYH0rjpgald"
      },
      "execution_count": null,
      "outputs": []
    },
    {
      "cell_type": "code",
      "source": [
        "install.packages(\"tidyverse\")\n"
      ],
      "metadata": {
        "colab": {
          "base_uri": "https://localhost:8080/"
        },
        "id": "LAUBBCn3gd3b",
        "outputId": "090c8daf-3e93-4c64-fa60-ef2d495ebe53"
      },
      "execution_count": null,
      "outputs": [
        {
          "output_type": "stream",
          "name": "stderr",
          "text": [
            "Installing package into ‘/usr/local/lib/R/site-library’\n",
            "(as ‘lib’ is unspecified)\n",
            "\n"
          ]
        }
      ]
    },
    {
      "cell_type": "code",
      "source": [
        "library(tidyverse)\n"
      ],
      "metadata": {
        "colab": {
          "base_uri": "https://localhost:8080/"
        },
        "id": "QMTgnjdoggVX",
        "outputId": "2c947ed6-142d-449c-ba0e-3b64533f3cc6"
      },
      "execution_count": null,
      "outputs": [
        {
          "output_type": "stream",
          "name": "stderr",
          "text": [
            "── \u001b[1mAttaching core tidyverse packages\u001b[22m ──────────────────────── tidyverse 2.0.0 ──\n",
            "\u001b[32m✔\u001b[39m \u001b[34mforcats  \u001b[39m 1.0.0     \u001b[32m✔\u001b[39m \u001b[34mstringr  \u001b[39m 1.5.1\n",
            "\u001b[32m✔\u001b[39m \u001b[34mlubridate\u001b[39m 1.9.3     \u001b[32m✔\u001b[39m \u001b[34mtibble   \u001b[39m 3.2.1\n",
            "\u001b[32m✔\u001b[39m \u001b[34mpurrr    \u001b[39m 1.0.2     \u001b[32m✔\u001b[39m \u001b[34mtidyr    \u001b[39m 1.3.1\n",
            "\u001b[32m✔\u001b[39m \u001b[34mreadr    \u001b[39m 2.1.5     \n",
            "── \u001b[1mConflicts\u001b[22m ────────────────────────────────────────── tidyverse_conflicts() ──\n",
            "\u001b[31m✖\u001b[39m \u001b[34mpurrr\u001b[39m::\u001b[32m%||%()\u001b[39m   masks \u001b[34mbase\u001b[39m::%||%()\n",
            "\u001b[31m✖\u001b[39m \u001b[34mdplyr\u001b[39m::\u001b[32mfilter()\u001b[39m masks \u001b[34mstats\u001b[39m::filter()\n",
            "\u001b[31m✖\u001b[39m \u001b[34mdplyr\u001b[39m::\u001b[32mlag()\u001b[39m    masks \u001b[34mstats\u001b[39m::lag()\n",
            "\u001b[36mℹ\u001b[39m Use the conflicted package (\u001b[3m\u001b[34m<http://conflicted.r-lib.org/>\u001b[39m\u001b[23m) to force all conflicts to become errors\n"
          ]
        }
      ]
    },
    {
      "cell_type": "code",
      "source": [
        "data %>%\n",
        "  gather(key = \"PESQUISA_TIPO\", value = \"PREFERENCIA\", PESQ1:PESQ2) %>%\n",
        "  filter(PREFERENCIA != \"0\") %>%\n",
        "  group_by(PREFERENCIA) %>%\n",
        "  summarise(QUANTIDADE = n())\n"
      ],
      "metadata": {
        "colab": {
          "base_uri": "https://localhost:8080/",
          "height": 192
        },
        "id": "582XE4exg_2S",
        "outputId": "41984f0e-43f6-4fa8-8b97-69be991fe7e9"
      },
      "execution_count": null,
      "outputs": [
        {
          "output_type": "display_data",
          "data": {
            "text/html": [
              "<table class=\"dataframe\">\n",
              "<caption>A tibble: 3 × 2</caption>\n",
              "<thead>\n",
              "\t<tr><th scope=col>PREFERENCIA</th><th scope=col>QUANTIDADE</th></tr>\n",
              "\t<tr><th scope=col>&lt;chr&gt;</th><th scope=col>&lt;int&gt;</th></tr>\n",
              "</thead>\n",
              "<tbody>\n",
              "\t<tr><td>H</td><td>166</td></tr>\n",
              "\t<tr><td>P</td><td>104</td></tr>\n",
              "\t<tr><td>R</td><td>298</td></tr>\n",
              "</tbody>\n",
              "</table>\n"
            ],
            "text/markdown": "\nA tibble: 3 × 2\n\n| PREFERENCIA &lt;chr&gt; | QUANTIDADE &lt;int&gt; |\n|---|---|\n| H | 166 |\n| P | 104 |\n| R | 298 |\n\n",
            "text/latex": "A tibble: 3 × 2\n\\begin{tabular}{ll}\n PREFERENCIA & QUANTIDADE\\\\\n <chr> & <int>\\\\\n\\hline\n\t H & 166\\\\\n\t P & 104\\\\\n\t R & 298\\\\\n\\end{tabular}\n",
            "text/plain": [
              "  PREFERENCIA QUANTIDADE\n",
              "1 H           166       \n",
              "2 P           104       \n",
              "3 R           298       "
            ]
          },
          "metadata": {}
        }
      ]
    },
    {
      "cell_type": "code",
      "source": [
        "data %>%\n",
        "  gather(key = \"PESQUISA_TIPO\", value = \"PREFERENCIA\", PESQ1:PESQ2) %>%\n",
        "  filter(PREFERENCIA != \"0\") %>%\n",
        "  group_by(PREFERENCIA) %>%\n",
        "  summarise(QUANTIDADE = n())"
      ],
      "metadata": {
        "colab": {
          "base_uri": "https://localhost:8080/",
          "height": 192
        },
        "id": "j05gYLXRhN5g",
        "outputId": "cc105842-894b-48c4-92ca-f4fea86a0de9"
      },
      "execution_count": null,
      "outputs": [
        {
          "output_type": "display_data",
          "data": {
            "text/html": [
              "<table class=\"dataframe\">\n",
              "<caption>A tibble: 3 × 2</caption>\n",
              "<thead>\n",
              "\t<tr><th scope=col>PREFERENCIA</th><th scope=col>QUANTIDADE</th></tr>\n",
              "\t<tr><th scope=col>&lt;chr&gt;</th><th scope=col>&lt;int&gt;</th></tr>\n",
              "</thead>\n",
              "<tbody>\n",
              "\t<tr><td>H</td><td>166</td></tr>\n",
              "\t<tr><td>P</td><td>104</td></tr>\n",
              "\t<tr><td>R</td><td>298</td></tr>\n",
              "</tbody>\n",
              "</table>\n"
            ],
            "text/markdown": "\nA tibble: 3 × 2\n\n| PREFERENCIA &lt;chr&gt; | QUANTIDADE &lt;int&gt; |\n|---|---|\n| H | 166 |\n| P | 104 |\n| R | 298 |\n\n",
            "text/latex": "A tibble: 3 × 2\n\\begin{tabular}{ll}\n PREFERENCIA & QUANTIDADE\\\\\n <chr> & <int>\\\\\n\\hline\n\t H & 166\\\\\n\t P & 104\\\\\n\t R & 298\\\\\n\\end{tabular}\n",
            "text/plain": [
              "  PREFERENCIA QUANTIDADE\n",
              "1 H           166       \n",
              "2 P           104       \n",
              "3 R           298       "
            ]
          },
          "metadata": {}
        }
      ]
    },
    {
      "cell_type": "code",
      "source": [
        "preferencias_sexo <- data %>%\n",
        "  gather(key = \"PESQUISA_TIPO\", value = \"PREFERENCIA\", PESQ1:PESQ2) %>%\n",
        "  filter(PREFERENCIA != \"0\") %>%\n",
        "  group_by(SEXO, PREFERENCIA) %>%\n",
        "  summarise(QUANTIDADE = n())"
      ],
      "metadata": {
        "colab": {
          "base_uri": "https://localhost:8080/"
        },
        "id": "jcrIn4rshYQC",
        "outputId": "5ac3a643-510a-4920-a92b-303463eb554c"
      },
      "execution_count": null,
      "outputs": [
        {
          "output_type": "stream",
          "name": "stderr",
          "text": [
            "\u001b[1m\u001b[22m`summarise()` has grouped output by 'SEXO'. You can override using the\n",
            "`.groups` argument.\n"
          ]
        }
      ]
    },
    {
      "cell_type": "code",
      "source": [
        "ggplot(preferencias_sexo, aes(x = PREFERENCIA, y = QUANTIDADE, fill = as.factor(SEXO))) +\n",
        "  geom_bar(stat = \"identity\", position = \"dodge\") +\n",
        "  labs(title = \"Preferência dos Alunos pelo Modelo de Aula por Sexo\",\n",
        "       x = \"Modelo de Aula\",\n",
        "       y = \"Quantidade de Alunos\",\n",
        "       fill = \"Sexo\") +\n",
        "  scale_fill_manual(values = c(\"1\" = \"blue\", \"2\" = \"pink\"),\n",
        "                    labels = c(\"1\" = \"Masculino\", \"2\" = \"Feminino\"))\n"
      ],
      "metadata": {
        "colab": {
          "base_uri": "https://localhost:8080/",
          "height": 437
        },
        "id": "7QKX-XbzhauQ",
        "outputId": "47b740d7-9563-4087-fe17-348e4daeefd5"
      },
      "execution_count": null,
      "outputs": [
        {
          "output_type": "display_data",
          "data": {
            "text/plain": [
              "plot without title"
            ],
            "image/png": "[encoded data removed]"
          },
          "metadata": {
            "image/png": {
              "width": 420,
              "height": 420
            }
          }
        }
      ]
    },
    {
      "cell_type": "code",
      "source": [
        "preferencias_dia <- data %>%\n",
        "  gather(key = \"PESQUISA_TIPO\", value = \"PREFERENCIA\", PESQ1:PESQ2) %>%\n",
        "  filter(PREFERENCIA != \"0\") %>%\n",
        "  group_by(DIA_SEMANA, PREFERENCIA) %>%\n",
        "  summarise(QUANTIDADE = n())"
      ],
      "metadata": {
        "colab": {
          "base_uri": "https://localhost:8080/"
        },
        "id": "HhHkOIzihwxr",
        "outputId": "cb5e6865-99a9-43fd-a170-ab4922129f60"
      },
      "execution_count": null,
      "outputs": [
        {
          "output_type": "stream",
          "name": "stderr",
          "text": [
            "\u001b[1m\u001b[22m`summarise()` has grouped output by 'DIA_SEMANA'. You can override using the\n",
            "`.groups` argument.\n"
          ]
        }
      ]
    },
    {
      "cell_type": "code",
      "source": [
        "ggplot(preferencias_dia, aes(x = DIA_SEMANA, y = QUANTIDADE, fill = PREFERENCIA)) +\n",
        "  geom_bar(stat = \"identity\", position = \"dodge\") +\n",
        "  labs(title = \"Preferência dos Alunos pelo Modelo de Aula por Dia da Semana\",\n",
        "       x = \"Dia da Semana\",\n",
        "       y = \"Quantidade de Alunos\",\n",
        "       fill = \"Modelo de Aula\")"
      ],
      "metadata": {
        "colab": {
          "base_uri": "https://localhost:8080/",
          "height": 437
        },
        "id": "BKpV5hBIh0XO",
        "outputId": "b532f97b-35f9-41f9-d3cd-69125beeffef"
      },
      "execution_count": null,
      "outputs": [
        {
          "output_type": "display_data",
          "data": {
            "text/plain": [
              "plot without title"
            ],
            "image/png": "[encoded data removed]"
          },
          "metadata": {
            "image/png": {
              "width": 420,
              "height": 420
            }
          }
        }
      ]
    },
    {
      "cell_type": "code",
      "source": [
        "ggplot(preferencias, aes(x = PREFERENCIA, y = QUANTIDADE)) +\n",
        "  geom_bar(stat = \"identity\") +\n",
        "  labs(title = \"Preferência dos Alunos pelo Modelo de Aula\",\n",
        "       x = \"Modelo de Aula\",\n",
        "       y = \"Quantidade de Alunos\") +\n",
        "  theme_minimal()"
      ],
      "metadata": {
        "colab": {
          "base_uri": "https://localhost:8080/",
          "height": 110
        },
        "id": "Sx6TRiVAiubw",
        "outputId": "c30c9630-6f2e-4070-dde4-333b5109a556"
      },
      "execution_count": null,
      "outputs": [
        {
          "output_type": "error",
          "ename": "ERROR",
          "evalue": "Error in eval(expr, envir, enclos): object 'preferencias' not found\n",
          "traceback": [
            "Error in eval(expr, envir, enclos): object 'preferencias' not found\nTraceback:\n",
            "1. ggplot(preferencias, aes(x = PREFERENCIA, y = QUANTIDADE))"
          ]
        }
      ]
    },
    {
      "cell_type": "code",
      "source": [],
      "metadata": {
        "id": "3UrB7kVsjSjQ"
      },
      "execution_count": null,
      "outputs": []
    }
  ]
}